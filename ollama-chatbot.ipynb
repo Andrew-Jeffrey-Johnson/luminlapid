{
 "cells": [
  {
   "cell_type": "code",
   "execution_count": null,
   "metadata": {},
   "outputs": [],
   "source": [
    "# From: https://github.com/ollama/ollama-python\n",
    "from ollama import chat\n",
    "from ollama import ChatResponse\n",
    "\n",
    "response: ChatResponse = chat(model='llama3.2', messages=[\n",
    "  {\n",
    "    'role': 'user',\n",
    "    'content': 'Why is the sky blue?',\n",
    "  },\n",
    "])\n",
    "print(response['message']['content'])\n",
    "# or access fields directly from the response object\n",
    "print(response.message.content)"
   ]
  },
  {
   "cell_type": "code",
   "execution_count": 1,
   "metadata": {},
   "outputs": [
    {
     "name": "stdout",
     "output_type": "stream",
     "text": [
      "The sky appears blue because of a phenomenon called scattering, which occurs when sunlight interacts with the tiny molecules of gases in the Earth's atmosphere.\n",
      "\n",
      "Here's a simplified explanation:\n",
      "\n",
      "1. Sunlight consists of a spectrum of colors, including all the colors of the visible light spectrum (red, orange, yellow, green, blue, indigo, and violet).\n",
      "2. When sunlight enters the Earth's atmosphere, it encounters tiny molecules of gases such as nitrogen (N2) and oxygen (O2).\n",
      "3. The shorter (blue) wavelengths of light are scattered more than the longer (red) wavelengths by these gas molecules.\n",
      "4. This scattering effect is called Rayleigh scattering, named after the British physicist Lord Rayleigh, who first described it in the late 19th century.\n",
      "5. As a result of the scattering, the blue light is dispersed in all directions and reaches our eyes from all parts of the sky.\n",
      "6. Our eyes perceive the scattered blue light as the dominant color of the sky, making it appear blue.\n",
      "\n",
      "The other colors of the spectrum are not scattered as much because they have longer wavelengths, which allows them to pass through the atmosphere with less scattering. That's why we don't typically see a lot of red or orange in the sky, except during sunrise and sunset when the light has to travel through more of the atmosphere, scattering off more particles.\n",
      "\n",
      "So, in summary, the sky appears blue because of the scattering of sunlight by tiny molecules in the Earth's atmosphere, which preferentially scatters shorter (blue) wavelengths of light."
     ]
    }
   ],
   "source": [
    "# From: https://github.com/ollama/ollama-python\n",
    "from ollama import chat\n",
    "\n",
    "stream = chat(\n",
    "    model='llama3.2',\n",
    "    messages=[{'role': 'user', 'content': 'Why is the sky blue?'}],\n",
    "    stream=True,\n",
    ")\n",
    "\n",
    "for chunk in stream:\n",
    "  print(chunk['message']['content'], end='', flush=True)"
   ]
  }
 ],
 "metadata": {
  "kernelspec": {
   "display_name": "Python 3",
   "language": "python",
   "name": "python3"
  },
  "language_info": {
   "codemirror_mode": {
    "name": "ipython",
    "version": 3
   },
   "file_extension": ".py",
   "mimetype": "text/x-python",
   "name": "python",
   "nbconvert_exporter": "python",
   "pygments_lexer": "ipython3",
   "version": "3.13.2"
  }
 },
 "nbformat": 4,
 "nbformat_minor": 2
}
