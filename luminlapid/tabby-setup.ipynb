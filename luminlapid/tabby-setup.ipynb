{
 "cells": [
  {
   "cell_type": "code",
   "execution_count": null,
   "metadata": {},
   "outputs": [],
   "source": [
    "# Run in terminal for tabby to start:\n",
    "# tabby serve --model Qwen2.5-Coder-0.5B --chat-model Qwen2.5-Coder-0.5B-Instruct --device cuda\n",
    "# tabby serve --device cuda"
   ]
  }
 ],
 "metadata": {
  "language_info": {
   "name": "python"
  }
 },
 "nbformat": 4,
 "nbformat_minor": 2
}
