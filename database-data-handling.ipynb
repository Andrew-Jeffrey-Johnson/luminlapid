{
 "cells": [
  {
   "cell_type": "code",
   "execution_count": 1,
   "metadata": {},
   "outputs": [],
   "source": [
    "import os\n",
    "import django\n",
    "import pandas as pd\n",
    "from asgiref.sync import sync_to_async\n",
    "import nest_asyncio\n",
    "\n",
    "# Allow nested async calls in Jupyter\n",
    "nest_asyncio.apply()\n",
    "\n",
    "# Set the settings module\n",
    "os.environ.setdefault('DJANGO_SETTINGS_MODULE', 'luminlapid.settings')\n",
    "\n",
    "# Initialize Django\n",
    "django.setup()"
   ]
  },
  {
   "cell_type": "code",
   "execution_count": 2,
   "metadata": {},
   "outputs": [],
   "source": [
    "# We must call this after initializing Django\n",
    "from users.models import User"
   ]
  },
  {
   "cell_type": "code",
   "execution_count": 3,
   "metadata": {},
   "outputs": [
    {
     "data": {
      "text/html": [
       "<div>\n",
       "<style scoped>\n",
       "    .dataframe tbody tr th:only-of-type {\n",
       "        vertical-align: middle;\n",
       "    }\n",
       "\n",
       "    .dataframe tbody tr th {\n",
       "        vertical-align: top;\n",
       "    }\n",
       "\n",
       "    .dataframe thead th {\n",
       "        text-align: right;\n",
       "    }\n",
       "</style>\n",
       "<table border=\"1\" class=\"dataframe\">\n",
       "  <thead>\n",
       "    <tr style=\"text-align: right;\">\n",
       "      <th></th>\n",
       "      <th>id</th>\n",
       "      <th>first_name</th>\n",
       "      <th>middle_name</th>\n",
       "      <th>last_name</th>\n",
       "      <th>email</th>\n",
       "      <th>phone_number</th>\n",
       "      <th>joined_date</th>\n",
       "    </tr>\n",
       "  </thead>\n",
       "  <tbody>\n",
       "    <tr>\n",
       "      <th>0</th>\n",
       "      <td>1</td>\n",
       "      <td>Andrew</td>\n",
       "      <td></td>\n",
       "      <td>Johnson</td>\n",
       "      <td>andrew.jeffrey.johnson@gmail.com</td>\n",
       "      <td></td>\n",
       "      <td>2025-03-01</td>\n",
       "    </tr>\n",
       "    <tr>\n",
       "      <th>1</th>\n",
       "      <td>2</td>\n",
       "      <td>Joe</td>\n",
       "      <td></td>\n",
       "      <td>Shmoe</td>\n",
       "      <td>joeshmoe@luminlapid.com</td>\n",
       "      <td></td>\n",
       "      <td>2025-03-01</td>\n",
       "    </tr>\n",
       "  </tbody>\n",
       "</table>\n",
       "</div>"
      ],
      "text/plain": [
       "   id first_name middle_name last_name                             email  \\\n",
       "0   1     Andrew               Johnson  andrew.jeffrey.johnson@gmail.com   \n",
       "1   2        Joe                 Shmoe           joeshmoe@luminlapid.com   \n",
       "\n",
       "  phone_number joined_date  \n",
       "0               2025-03-01  \n",
       "1               2025-03-01  "
      ]
     },
     "execution_count": 3,
     "metadata": {},
     "output_type": "execute_result"
    }
   ],
   "source": [
    "# Define an asynchronous function to fetch data\n",
    "async def fetch_data():\n",
    "    # Use sync_to_async to run the ORM query\n",
    "    data = await sync_to_async(lambda: list(User.objects.all().values()))()\n",
    "    return data\n",
    "\n",
    "# Fetch the data and convert it to a DataFrame\n",
    "data = await fetch_data()\n",
    "df = pd.DataFrame(data)\n",
    "\n",
    "# Display the DataFrame\n",
    "df.head()\n",
    "\n"
   ]
  },
  {
   "cell_type": "markdown",
   "metadata": {},
   "source": [
    "# Database design\n",
    "```mermaid\n",
    "erDiagram\n",
    "    user ||--|| user_id : has\n",
    "    user ||--|| first_name : has\n",
    "    user ||--|| middle_name : has\n",
    "    user ||--|| last_name : has\n",
    "    user ||--|| email : has\n",
    "    user ||--o| phone_number : has\n",
    "    user ||--|| joined_date : has\n",
    "    visit ||--|| visit_id : has\n",
    "    visit ||--o| user_id : matches\n",
    "    visit ||--|| date : has\n",
    "    visit ||--|| time : has\n",
    "    visit ||--|| user : has\n",
    "    visit ||--|| location : has\n",
    "    visit ||--|| duration : has\n",
    "    visit ||--|| purpose : has\n",
    "    visit ||--|| status : has\n",
    "    visit ||--|| type : has\n",
    "    visit ||--|| location_type : has\n",
    "    visit ||--|| location_name : has\n",
    "    visit ||--|| location_address : has\n",
    "    visit ||--|| location_city : has\n",
    "    visit ||--|| comments : has\n",
    "```\n",
    "This is too much for a single diagram. Let's break it down."
   ]
  },
  {
   "cell_type": "markdown",
   "metadata": {},
   "source": [
    "This is just the user\n",
    "```mermaid\n",
    "erDiagram\n",
    "    user ||--|| user_id : has\n",
    "    user ||--|| first_name : has\n",
    "    user ||--|| middle_name : has\n",
    "    user ||--|| last_name : has\n",
    "    user ||--|| email : has\n",
    "    user ||--o| phone_number : has\n",
    "    user ||--|| joined_date : has\n",
    "```\n"
   ]
  },
  {
   "cell_type": "markdown",
   "metadata": {},
   "source": [
    "This is just the visit\n",
    "```mermaid\n",
    "erDiagram\n",
    "    visit ||--|| visit_id : has\n",
    "    visit ||--o| user_id : matches\n",
    "    visit ||--|| date : has\n",
    "    visit ||--|| time : has\n",
    "    visit ||--|| user : has\n",
    "    visit ||--|| location : has\n",
    "    visit ||--|| duration : has\n",
    "    visit ||--|| purpose : has\n",
    "    visit ||--|| status : has\n",
    "    visit ||--|| type : has\n",
    "    visit ||--|| location_type : has\n",
    "    visit ||--|| location_name : has\n",
    "    visit ||--|| location_address : has\n",
    "    visit ||--|| location_city : has\n",
    "    visit ||--|| comments : has\n",
    "```"
   ]
  },
  {
   "cell_type": "markdown",
   "metadata": {},
   "source": []
  },
  {
   "cell_type": "code",
   "execution_count": 5,
   "metadata": {},
   "outputs": [
    {
     "name": "stdout",
     "output_type": "stream",
     "text": [
      "2025-03-06 09:29:41.313926\n"
     ]
    }
   ],
   "source": [
    "import datetime  # You may need to add this import depending on the context\n",
    "current_date = datetime.datetime.now()\n",
    "print(current_date)"
   ]
  }
 ],
 "metadata": {
  "kernelspec": {
   "display_name": "Python 3",
   "language": "python",
   "name": "python3"
  },
  "language_info": {
   "codemirror_mode": {
    "name": "ipython",
    "version": 3
   },
   "file_extension": ".py",
   "mimetype": "text/x-python",
   "name": "python",
   "nbconvert_exporter": "python",
   "pygments_lexer": "ipython3",
   "version": "3.13.2"
  }
 },
 "nbformat": 4,
 "nbformat_minor": 2
}
